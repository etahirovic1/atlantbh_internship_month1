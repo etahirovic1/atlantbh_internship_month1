{
 "cells": [
  {
   "cell_type": "code",
   "execution_count": null,
   "id": "eadeb1cb",
   "metadata": {},
   "outputs": [],
   "source": [
    "import pandas as pd\n",
    "import re\n",
    "import numpy as np\n",
    "from haversine import haversine, Unit\n",
    "from fuzzywuzzy import fuzz\n",
    "from fuzzywuzzy import process\n",
    "from fastDamerauLevenshtein import damerauLevenshtein\n",
    "import Levenshtein as lev\n",
    "import jaro"
   ]
  },
  {
   "cell_type": "code",
   "execution_count": null,
   "id": "4ddd292e",
   "metadata": {},
   "outputs": [],
   "source": [
    "osm_canada = pd.read_csv('canada-points-csv.csv',sep='\\t')"
   ]
  },
  {
   "cell_type": "code",
   "execution_count": null,
   "id": "f5278b0d",
   "metadata": {},
   "outputs": [],
   "source": [
    "osm_canada = osm_canada[osm_canada.name.notnull()==True]\n",
    "osm_canada = osm_canada[osm_canada.highway.notnull()==False]\n",
    "osm_canada = osm_canada[osm_canada.other_tags.notnull()==True]\n",
    "osm_canada = osm_canada[osm_canada.other_tags.str.contains(\"amenity\")]"
   ]
  },
  {
   "cell_type": "code",
   "execution_count": null,
   "id": "43b21735",
   "metadata": {},
   "outputs": [],
   "source": [
    "osm_canada = osm_canada.drop(['barrier','highway','ref','address','is_in','place','man_made', 'osm_id'], axis=1)\n",
    "osm_canada = osm_canada.rename(columns = {'X': 'longitude', 'Y': 'latitude'}, inplace = False)\n",
    "osm_canada = osm_canada[osm_canada['other_tags'].str.contains('addr|name:en|cuisine')]\n",
    "osm_canada.reset_index()\n",
    "osm_canada = osm_canada.drop('other_tags', axis=1)\n",
    "# makes new indices\n",
    "osm_canada = osm_canada.reset_index()\n",
    "# removes the original index (number of record in original dataset), so have it in mind\n",
    "osm_canada=osm_canada.drop('index',axis=1)\n",
    "osm_canada"
   ]
  },
  {
   "cell_type": "code",
   "execution_count": null,
   "id": "56a8050d",
   "metadata": {},
   "outputs": [],
   "source": [
    "yelp_canada = pd.read_json('/Users/admin/PycharmProjects/atlantbh_internship/Canada.json', lines=True)\n",
    "# this is data that already only includes open businesses\n",
    "yelp_canada = yelp_canada.drop(['business_id', 'hours', 'stars', 'review_count', 'is_open', 'attributes'], axis=1)"
   ]
  },
  {
   "cell_type": "code",
   "execution_count": null,
   "id": "9b2d10ce",
   "metadata": {},
   "outputs": [],
   "source": [
    "#yelp_500 = yelp_canada.sample(500)\n",
    "yelp_500 = yelp_canada\n",
    "yelp_500 = yelp_500.drop(['address', 'city', 'state', 'categories', 'postal_code'],axis=1)\n",
    "#osm_500 = osm_canada.head(5000)\n",
    "osm_500 = osm_canada"
   ]
  },
  {
   "cell_type": "code",
   "execution_count": null,
   "id": "32b8ed3f",
   "metadata": {},
   "outputs": [],
   "source": [
    "def clean(yelp, osm):\n",
    "    yelp = yelp.lower()\n",
    "    osm = osm.lower()\n",
    "    matches_yelp = re.findall(r\"the | the |restaurant|caffe|cafe|theatre|food|house|park|club\", str(yelp))\n",
    "    matches_yelp = [match.strip() for match in matches_yelp]\n",
    "    matches_osm = re.findall(r\"the | the |restaurant|caffe|cafe|theatre|food|house|park|club\", str(osm))\n",
    "    matches_osm = [match.strip() for match in matches_osm]\n",
    "    matches = list(set(matches_yelp) & set(matches_osm))\n",
    "    for match in matches:\n",
    "        yelp = yelp.replace(match, '')\n",
    "        osm = osm.replace(match, '')\n",
    "    return yelp, osm"
   ]
  },
  {
   "cell_type": "code",
   "execution_count": null,
   "id": "edb05ab7",
   "metadata": {},
   "outputs": [],
   "source": [
    "def score_it(yelp_coord, osm_coord, yelp_name, choices):\n",
    "    \n",
    "    dist = haversine(yelp_coord, osm_coord, unit='m') # calculate haversine distance between coordinates\n",
    "    haver_score = int(100-dist) # since matches above 100m are not very appreciated, scale to 100 points\n",
    "\n",
    "    if haver_score < 0: # if the distance is more than 100m, revert to 0 points\n",
    "        haver_score = 0\n",
    "        \n",
    "    st1 = str(choices[0]); st1 = st1.lower()\n",
    "    st2 = str(yelp_name); st2 = st2.lower()\n",
    "    \n",
    "    dam_lev_score = 0\n",
    "    \n",
    "    if fuzz.token_set_ratio(st1, st2) > 10:  \n",
    "        yelp, osm = clean(yelp_name, choices[0])\n",
    "        if len(yelp) != 0 and len(osm) != 0:\n",
    "            dam_lev_score = damerauLevenshtein(yelp, osm)*100\n",
    "        else:\n",
    "            dam_lev_score = damerauLevenshtein(yelp_name, choices[0])*100\n",
    "        if dam_lev_score > 40:\n",
    "            dam_lev_score = damerauLevenshtein(yelp_name, choices[0])*100\n",
    "\n",
    "    if haver_score < 1 or dam_lev_score < 40:\n",
    "        score = 0\n",
    "    else:\n",
    "        score = round(haver_score*0.3 + dam_lev_score*0.7, 2) # scale everything back to 100 points\n",
    "        \n",
    "    return score, dist"
   ]
  },
  {
   "cell_type": "code",
   "execution_count": null,
   "id": "38feae65",
   "metadata": {},
   "outputs": [],
   "source": [
    "def skor(yelp_row):\n",
    "    \n",
    "    true_score = 0\n",
    "    rec = np.NaN\n",
    "    amenity_cluster = list()\n",
    "    yelp_coord = (yelp_row['latitude'], yelp_row['longitude'])\n",
    "    amenity_cluster.append([yelp_row['name'], yelp_coord])\n",
    "    \n",
    "    for osm_row_index, osm_row in osm_500.iterrows():\n",
    "        \n",
    "        osm_coord = (osm_row['latitude'], osm_row['longitude'])\n",
    "        \n",
    "        if haversine(osm_coord, yelp_coord, unit='m') > 100:\n",
    "            continue\n",
    "        \n",
    "        score, haver = score_it(yelp_coord, osm_coord, yelp_row['name'],\n",
    "                         [osm_row['name'], osm_row['name_english'], osm_row['official_name']])\n",
    "        if haver < 100:\n",
    "            amenity_cluster.append([osm_row['name'], osm_coord, haver])\n",
    "        if score > true_score:\n",
    "            true_score = score\n",
    "            rec = [osm_row['name'], osm_row['latitude'], osm_row['longitude']]\n",
    "\n",
    "    been_there = False\n",
    "    \n",
    "    for neighbor in range(1, len(amenity_cluster)-1):\n",
    "        for neighbor_2 in range(neighbor+1, len(amenity_cluster)):\n",
    "            haver = haversine(amenity_cluster[neighbor][1], amenity_cluster[neighbor_2][1], unit='m')\n",
    "            if amenity_cluster[neighbor][2] > haver:\n",
    "                true_score -= round((amenity_cluster[neighbor][2] - haver)*0.1, 2)\n",
    "                been_there = True\n",
    "                break\n",
    "            elif amenity_cluster[neighbor_2][2] > haver:\n",
    "                true_score -= round((amenity_cluster[neighbor_2][2] - haver)*0.1, 2)\n",
    "                been_there = True\n",
    "                break\n",
    "        if been_there:\n",
    "            break\n",
    "    \n",
    "    if rec == 'nan':\n",
    "        return np.NaN\n",
    "    if true_score<40:\n",
    "        grade = 'not matched'\n",
    "    elif true_score<80:\n",
    "        grade = 'partially matched'\n",
    "    else:\n",
    "        grade = 'matched'\n",
    "            \n",
    "    return grade + \": \" + str(round(true_score, 2))+', '+str(rec)"
   ]
  },
  {
   "cell_type": "code",
   "execution_count": null,
   "id": "4f8dc734",
   "metadata": {},
   "outputs": [],
   "source": [
    "yelp_500['verification_score'] = yelp_500.apply(lambda x : skor(x), axis=1)"
   ]
  },
  {
   "cell_type": "code",
   "execution_count": null,
   "id": "245b61f4",
   "metadata": {},
   "outputs": [],
   "source": [
    "yelp_500[yelp_500['verification_score'].str.contains(' nan')==False]"
   ]
  },
  {
   "cell_type": "code",
   "execution_count": null,
   "id": "c2d5193c",
   "metadata": {},
   "outputs": [],
   "source": []
  }
 ],
 "metadata": {
  "kernelspec": {
   "display_name": "Python 3",
   "language": "python",
   "name": "python3"
  },
  "language_info": {
   "codemirror_mode": {
    "name": "ipython",
    "version": 3
   },
   "file_extension": ".py",
   "mimetype": "text/x-python",
   "name": "python",
   "nbconvert_exporter": "python",
   "pygments_lexer": "ipython3",
   "version": "3.8.8"
  }
 },
 "nbformat": 4,
 "nbformat_minor": 5
}
